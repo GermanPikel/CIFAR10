{
  "nbformat": 4,
  "nbformat_minor": 0,
  "metadata": {
    "colab": {
      "provenance": [],
      "gpuType": "T4"
    },
    "kernelspec": {
      "name": "python3",
      "display_name": "Python 3"
    },
    "language_info": {
      "name": "python"
    },
    "accelerator": "GPU"
  },
  "cells": [
    {
      "cell_type": "code",
      "execution_count": 11,
      "metadata": {
        "colab": {
          "base_uri": "https://localhost:8080/",
          "height": 35
        },
        "id": "8a6hVIgkoYYO",
        "outputId": "4d10dea4-045d-4e91-a7aa-87ab6abfee47"
      },
      "outputs": [
        {
          "output_type": "execute_result",
          "data": {
            "text/plain": [
              "'cuda'"
            ],
            "application/vnd.google.colaboratory.intrinsic+json": {
              "type": "string"
            }
          },
          "metadata": {},
          "execution_count": 11
        }
      ],
      "source": [
        "import torch\n",
        "import torchvision\n",
        "import torch.nn as nn\n",
        "import numpy as np\n",
        "import torch.nn.functional as F\n",
        "from torchvision import transforms\n",
        "from torch.utils.data import DataLoader\n",
        "from tqdm import tqdm\n",
        "\n",
        "device = \"cuda\" if torch.cuda.is_available() else \"cpu\"\n",
        "device"
      ]
    },
    {
      "cell_type": "code",
      "source": [
        "transformer = transforms.Compose([transforms.ToTensor(),\n",
        "                                  transforms.Normalize(mean=[0.4914, 0.4822, 0.4465], std=[0.2470, 0.2435, 0.2616])])\n",
        "\n",
        "trainset = torchvision.datasets.CIFAR10(root=\"./data\", train=True,\n",
        "                                        transform=transformer, download=True)\n",
        "testset = torchvision.datasets.CIFAR10(root=\"./data\", train=False,\n",
        "                                       transform=transformer, download=True)\n",
        "\n",
        "trainloader = DataLoader(trainset, batch_size=128, shuffle=True, num_workers=2)\n",
        "testloader = DataLoader(trainset, batch_size=128, shuffle=True, num_workers=2)"
      ],
      "metadata": {
        "id": "Ry_PSr1ApGOA"
      },
      "execution_count": 12,
      "outputs": []
    },
    {
      "cell_type": "code",
      "source": [
        "print(len(trainset))\n",
        "print(len(testset))"
      ],
      "metadata": {
        "colab": {
          "base_uri": "https://localhost:8080/"
        },
        "id": "N0Jtvek6tZ0H",
        "outputId": "5a6978c4-0dad-4602-c1f5-634faf2fe106"
      },
      "execution_count": 13,
      "outputs": [
        {
          "output_type": "stream",
          "name": "stdout",
          "text": [
            "50000\n",
            "10000\n"
          ]
        }
      ]
    },
    {
      "cell_type": "code",
      "source": [
        "trainset[0][0].shape # 3 цветовых канала, сами картинки размером 32 на 32 пикселя"
      ],
      "metadata": {
        "colab": {
          "base_uri": "https://localhost:8080/"
        },
        "id": "PAxnP4hwtsUw",
        "outputId": "125d19b3-422a-4a7c-bb85-8abe3f7421af"
      },
      "execution_count": 14,
      "outputs": [
        {
          "output_type": "execute_result",
          "data": {
            "text/plain": [
              "torch.Size([3, 32, 32])"
            ]
          },
          "metadata": {},
          "execution_count": 14
        }
      ]
    },
    {
      "cell_type": "code",
      "source": [
        "class MyOwnNet(nn.Module):\n",
        "    def __init__(self):\n",
        "      super(MyOwnNet, self).__init__()\n",
        "      self.conv1 = nn.Conv2d(in_channels=3, out_channels=12, kernel_size=3)\n",
        "      self.bn1 = nn.BatchNorm2d(12)\n",
        "      self.pool = nn.MaxPool2d(kernel_size=2, stride=2)\n",
        "      self.conv2 = nn.Conv2d(in_channels=12, out_channels=16, kernel_size=3)\n",
        "      self.bn2 = nn.BatchNorm2d(16)\n",
        "      self.conv3 = nn.Conv2d(in_channels=16, out_channels=24, kernel_size=3)\n",
        "      self.bn3 = nn.BatchNorm2d(24)\n",
        "\n",
        "      self.dropout = nn.Dropout(p=0.3)\n",
        "      self._to_linear = None\n",
        "      self._get_conv_size(torch.randn(1, 3, 32, 32))\n",
        "\n",
        "      self.flatten = nn.Flatten()\n",
        "      self.fc1 = nn.Linear(self._to_linear, 120)\n",
        "      self.fc2 = nn.Linear(120, 84)\n",
        "      self.fc3 = nn.Linear(84, 10)\n",
        "\n",
        "    def _get_conv_size(self, x):\n",
        "          x = self.pool(F.relu(self.bn1(self.conv1(x))))\n",
        "          x = self.pool(F.relu(self.bn2(self.conv2(x))))\n",
        "          x = self.pool(F.relu(self.bn3(self.conv3(x))))\n",
        "          self._to_linear = x.flatten(1).shape[1]\n",
        "\n",
        "    def forward(self, x):\n",
        "        x = self.pool(F.relu(self.conv1(x)))\n",
        "        x = self.pool(F.relu(self.conv2(x)))\n",
        "        x = self.pool(F.relu(self.conv3(x)))\n",
        "        x = self.flatten(x)\n",
        "        x = self.dropout(x)\n",
        "        x = F.relu(self.fc1(x))\n",
        "        x = self.dropout(x)\n",
        "        x = F.relu(self.fc2(x))\n",
        "        x = self.fc3(x) # Последний слой без ФА, т.к. в Лосс уже встроен софтмакс\n",
        "        return x"
      ],
      "metadata": {
        "id": "Chx2MkkauUtF"
      },
      "execution_count": 15,
      "outputs": []
    },
    {
      "cell_type": "code",
      "source": [
        "model = MyOwnNet().to(device)\n",
        "criterion = nn.CrossEntropyLoss()\n",
        "optimizer = torch.optim.Adam(model.parameters(), lr=1e-3)"
      ],
      "metadata": {
        "id": "rMVZNZ2Bx5PK"
      },
      "execution_count": 17,
      "outputs": []
    },
    {
      "cell_type": "code",
      "source": [
        "dataloaders = {\"train\": trainloader, \"test\": testloader}"
      ],
      "metadata": {
        "id": "xgSOOgUIsg9c"
      },
      "execution_count": 18,
      "outputs": []
    },
    {
      "cell_type": "code",
      "source": [
        "model.train()\n",
        "epochs = 100\n",
        "accuracy = {\"train\": [], \"test\": []}\n",
        "for epoch in tqdm(range(epochs)):\n",
        "  for action, dataloader in dataloaders.items():\n",
        "    epoch_correct = 0\n",
        "    epoch_all = 0\n",
        "    for X_batch, y_batch in dataloader:\n",
        "      X_batch = X_batch.to(device)\n",
        "      y_batch = y_batch.to(device)\n",
        "      if action == \"train\":\n",
        "        model.train()\n",
        "        optimizer.zero_grad()\n",
        "        logits = model(X_batch)\n",
        "      else:\n",
        "        model.eval()\n",
        "        with torch.no_grad():\n",
        "          logits = model(X_batch)\n",
        "      y_pred = logits.argmax(-1)\n",
        "      correct_preds = (y_batch == y_pred).sum()\n",
        "      epoch_correct += correct_preds.item()\n",
        "      epoch_all += y_batch.shape[0]\n",
        "      if action == \"train\":\n",
        "        loss = criterion(logits, y_batch)\n",
        "        loss.backward()\n",
        "        optimizer.step()\n",
        "    if action == \"train\":\n",
        "      print(f\"Epoch №{epoch + 1}\")\n",
        "    print(f\"Loader: {action}, accuracy: {epoch_correct/epoch_all}\")\n",
        "    accuracy[action].append(epoch_correct/epoch_all)"
      ],
      "metadata": {
        "id": "WwJDbfnAy6q4",
        "colab": {
          "base_uri": "https://localhost:8080/"
        },
        "outputId": "853bda57-9de7-4b7c-c20e-9ded6bc3af7c"
      },
      "execution_count": 19,
      "outputs": [
        {
          "output_type": "stream",
          "name": "stderr",
          "text": [
            "\r  0%|          | 0/100 [00:00<?, ?it/s]"
          ]
        },
        {
          "output_type": "stream",
          "name": "stdout",
          "text": [
            "Epoch №1\n",
            "Loader: train, accuracy: 0.2977\n"
          ]
        },
        {
          "output_type": "stream",
          "name": "stderr",
          "text": [
            "\r  1%|          | 1/100 [00:28<46:46, 28.35s/it]"
          ]
        },
        {
          "output_type": "stream",
          "name": "stdout",
          "text": [
            "Loader: test, accuracy: 0.39634\n",
            "Epoch №2\n",
            "Loader: train, accuracy: 0.4111\n"
          ]
        },
        {
          "output_type": "stream",
          "name": "stderr",
          "text": [
            "\r  2%|▏         | 2/100 [00:53<43:07, 26.40s/it]"
          ]
        },
        {
          "output_type": "stream",
          "name": "stdout",
          "text": [
            "Loader: test, accuracy: 0.46958\n",
            "Epoch №3\n",
            "Loader: train, accuracy: 0.4613\n"
          ]
        },
        {
          "output_type": "stream",
          "name": "stderr",
          "text": [
            "\r  3%|▎         | 3/100 [01:17<41:09, 25.45s/it]"
          ]
        },
        {
          "output_type": "stream",
          "name": "stdout",
          "text": [
            "Loader: test, accuracy: 0.50928\n",
            "Epoch №4\n",
            "Loader: train, accuracy: 0.49312\n"
          ]
        },
        {
          "output_type": "stream",
          "name": "stderr",
          "text": [
            "\r  4%|▍         | 4/100 [01:42<40:27, 25.29s/it]"
          ]
        },
        {
          "output_type": "stream",
          "name": "stdout",
          "text": [
            "Loader: test, accuracy: 0.54858\n",
            "Epoch №5\n",
            "Loader: train, accuracy: 0.5081\n"
          ]
        },
        {
          "output_type": "stream",
          "name": "stderr",
          "text": [
            "\r  5%|▌         | 5/100 [02:07<39:39, 25.05s/it]"
          ]
        },
        {
          "output_type": "stream",
          "name": "stdout",
          "text": [
            "Loader: test, accuracy: 0.56822\n",
            "Epoch №6\n",
            "Loader: train, accuracy: 0.5258\n"
          ]
        },
        {
          "output_type": "stream",
          "name": "stderr",
          "text": [
            "\r  6%|▌         | 6/100 [02:31<38:58, 24.87s/it]"
          ]
        },
        {
          "output_type": "stream",
          "name": "stdout",
          "text": [
            "Loader: test, accuracy: 0.58228\n",
            "Epoch №7\n",
            "Loader: train, accuracy: 0.53754\n"
          ]
        },
        {
          "output_type": "stream",
          "name": "stderr",
          "text": [
            "\r  7%|▋         | 7/100 [02:55<38:09, 24.62s/it]"
          ]
        },
        {
          "output_type": "stream",
          "name": "stdout",
          "text": [
            "Loader: test, accuracy: 0.58532\n",
            "Epoch №8\n",
            "Loader: train, accuracy: 0.54728\n"
          ]
        },
        {
          "output_type": "stream",
          "name": "stderr",
          "text": [
            "\r  8%|▊         | 8/100 [03:20<37:30, 24.47s/it]"
          ]
        },
        {
          "output_type": "stream",
          "name": "stdout",
          "text": [
            "Loader: test, accuracy: 0.60432\n",
            "Epoch №9\n",
            "Loader: train, accuracy: 0.55986\n"
          ]
        },
        {
          "output_type": "stream",
          "name": "stderr",
          "text": [
            "\r  9%|▉         | 9/100 [03:43<36:47, 24.25s/it]"
          ]
        },
        {
          "output_type": "stream",
          "name": "stdout",
          "text": [
            "Loader: test, accuracy: 0.61568\n",
            "Epoch №10\n",
            "Loader: train, accuracy: 0.56126\n"
          ]
        },
        {
          "output_type": "stream",
          "name": "stderr",
          "text": [
            "\r 10%|█         | 10/100 [04:07<36:14, 24.16s/it]"
          ]
        },
        {
          "output_type": "stream",
          "name": "stdout",
          "text": [
            "Loader: test, accuracy: 0.6067\n",
            "Epoch №11\n",
            "Loader: train, accuracy: 0.5693\n"
          ]
        },
        {
          "output_type": "stream",
          "name": "stderr",
          "text": [
            "\r 11%|█         | 11/100 [04:31<35:45, 24.10s/it]"
          ]
        },
        {
          "output_type": "stream",
          "name": "stdout",
          "text": [
            "Loader: test, accuracy: 0.62898\n",
            "Epoch №12\n",
            "Loader: train, accuracy: 0.5725\n"
          ]
        },
        {
          "output_type": "stream",
          "name": "stderr",
          "text": [
            "\r 12%|█▏        | 12/100 [04:55<35:20, 24.09s/it]"
          ]
        },
        {
          "output_type": "stream",
          "name": "stdout",
          "text": [
            "Loader: test, accuracy: 0.63408\n",
            "Epoch №13\n",
            "Loader: train, accuracy: 0.58374\n"
          ]
        },
        {
          "output_type": "stream",
          "name": "stderr",
          "text": [
            "\r 13%|█▎        | 13/100 [05:19<34:54, 24.07s/it]"
          ]
        },
        {
          "output_type": "stream",
          "name": "stdout",
          "text": [
            "Loader: test, accuracy: 0.6419\n",
            "Epoch №14\n",
            "Loader: train, accuracy: 0.58604\n"
          ]
        },
        {
          "output_type": "stream",
          "name": "stderr",
          "text": [
            "\r 14%|█▍        | 14/100 [05:44<34:31, 24.09s/it]"
          ]
        },
        {
          "output_type": "stream",
          "name": "stdout",
          "text": [
            "Loader: test, accuracy: 0.64766\n",
            "Epoch №15\n",
            "Loader: train, accuracy: 0.59214\n"
          ]
        },
        {
          "output_type": "stream",
          "name": "stderr",
          "text": [
            "\r 15%|█▌        | 15/100 [06:08<34:13, 24.16s/it]"
          ]
        },
        {
          "output_type": "stream",
          "name": "stdout",
          "text": [
            "Loader: test, accuracy: 0.64646\n",
            "Epoch №16\n",
            "Loader: train, accuracy: 0.59658\n"
          ]
        },
        {
          "output_type": "stream",
          "name": "stderr",
          "text": [
            "\r 16%|█▌        | 16/100 [06:32<33:49, 24.16s/it]"
          ]
        },
        {
          "output_type": "stream",
          "name": "stdout",
          "text": [
            "Loader: test, accuracy: 0.65356\n",
            "Epoch №17\n",
            "Loader: train, accuracy: 0.59662\n"
          ]
        },
        {
          "output_type": "stream",
          "name": "stderr",
          "text": [
            "\r 17%|█▋        | 17/100 [06:56<33:24, 24.15s/it]"
          ]
        },
        {
          "output_type": "stream",
          "name": "stdout",
          "text": [
            "Loader: test, accuracy: 0.65648\n",
            "Epoch №18\n",
            "Loader: train, accuracy: 0.6024\n"
          ]
        },
        {
          "output_type": "stream",
          "name": "stderr",
          "text": [
            "\r 18%|█▊        | 18/100 [07:20<32:52, 24.05s/it]"
          ]
        },
        {
          "output_type": "stream",
          "name": "stdout",
          "text": [
            "Loader: test, accuracy: 0.66304\n",
            "Epoch №19\n",
            "Loader: train, accuracy: 0.60158\n"
          ]
        },
        {
          "output_type": "stream",
          "name": "stderr",
          "text": [
            "\r 19%|█▉        | 19/100 [07:44<32:18, 23.93s/it]"
          ]
        },
        {
          "output_type": "stream",
          "name": "stdout",
          "text": [
            "Loader: test, accuracy: 0.65404\n",
            "Epoch №20\n",
            "Loader: train, accuracy: 0.60734\n"
          ]
        },
        {
          "output_type": "stream",
          "name": "stderr",
          "text": [
            "\r 20%|██        | 20/100 [08:08<32:02, 24.03s/it]"
          ]
        },
        {
          "output_type": "stream",
          "name": "stdout",
          "text": [
            "Loader: test, accuracy: 0.66116\n",
            "Epoch №21\n",
            "Loader: train, accuracy: 0.6084\n"
          ]
        },
        {
          "output_type": "stream",
          "name": "stderr",
          "text": [
            "\r 21%|██        | 21/100 [08:32<31:48, 24.16s/it]"
          ]
        },
        {
          "output_type": "stream",
          "name": "stdout",
          "text": [
            "Loader: test, accuracy: 0.67248\n",
            "Epoch №22\n",
            "Loader: train, accuracy: 0.61288\n"
          ]
        },
        {
          "output_type": "stream",
          "name": "stderr",
          "text": [
            "\r 22%|██▏       | 22/100 [08:57<31:39, 24.35s/it]"
          ]
        },
        {
          "output_type": "stream",
          "name": "stdout",
          "text": [
            "Loader: test, accuracy: 0.67504\n",
            "Epoch №23\n",
            "Loader: train, accuracy: 0.615\n"
          ]
        },
        {
          "output_type": "stream",
          "name": "stderr",
          "text": [
            "\r 23%|██▎       | 23/100 [09:21<31:11, 24.31s/it]"
          ]
        },
        {
          "output_type": "stream",
          "name": "stdout",
          "text": [
            "Loader: test, accuracy: 0.68282\n",
            "Epoch №24\n",
            "Loader: train, accuracy: 0.6149\n"
          ]
        },
        {
          "output_type": "stream",
          "name": "stderr",
          "text": [
            "\r 24%|██▍       | 24/100 [09:46<30:46, 24.29s/it]"
          ]
        },
        {
          "output_type": "stream",
          "name": "stdout",
          "text": [
            "Loader: test, accuracy: 0.67392\n",
            "Epoch №25\n",
            "Loader: train, accuracy: 0.61992\n"
          ]
        },
        {
          "output_type": "stream",
          "name": "stderr",
          "text": [
            "\r 25%|██▌       | 25/100 [10:10<30:17, 24.24s/it]"
          ]
        },
        {
          "output_type": "stream",
          "name": "stdout",
          "text": [
            "Loader: test, accuracy: 0.67832\n",
            "Epoch №26\n",
            "Loader: train, accuracy: 0.62152\n"
          ]
        },
        {
          "output_type": "stream",
          "name": "stderr",
          "text": [
            "\r 26%|██▌       | 26/100 [10:34<29:50, 24.19s/it]"
          ]
        },
        {
          "output_type": "stream",
          "name": "stdout",
          "text": [
            "Loader: test, accuracy: 0.688\n",
            "Epoch №27\n",
            "Loader: train, accuracy: 0.62128\n"
          ]
        },
        {
          "output_type": "stream",
          "name": "stderr",
          "text": [
            "\r 27%|██▋       | 27/100 [10:58<29:17, 24.08s/it]"
          ]
        },
        {
          "output_type": "stream",
          "name": "stdout",
          "text": [
            "Loader: test, accuracy: 0.68432\n",
            "Epoch №28\n",
            "Loader: train, accuracy: 0.62368\n"
          ]
        },
        {
          "output_type": "stream",
          "name": "stderr",
          "text": [
            "\r 28%|██▊       | 28/100 [11:21<28:41, 23.91s/it]"
          ]
        },
        {
          "output_type": "stream",
          "name": "stdout",
          "text": [
            "Loader: test, accuracy: 0.68964\n",
            "Epoch №29\n",
            "Loader: train, accuracy: 0.62624\n"
          ]
        },
        {
          "output_type": "stream",
          "name": "stderr",
          "text": [
            "\r 29%|██▉       | 29/100 [11:45<28:17, 23.91s/it]"
          ]
        },
        {
          "output_type": "stream",
          "name": "stdout",
          "text": [
            "Loader: test, accuracy: 0.6842\n",
            "Epoch №30\n",
            "Loader: train, accuracy: 0.6256\n"
          ]
        },
        {
          "output_type": "stream",
          "name": "stderr",
          "text": [
            "\r 30%|███       | 30/100 [12:09<28:04, 24.07s/it]"
          ]
        },
        {
          "output_type": "stream",
          "name": "stdout",
          "text": [
            "Loader: test, accuracy: 0.68772\n",
            "Epoch №31\n",
            "Loader: train, accuracy: 0.63084\n"
          ]
        },
        {
          "output_type": "stream",
          "name": "stderr",
          "text": [
            "\r 31%|███       | 31/100 [12:34<27:41, 24.09s/it]"
          ]
        },
        {
          "output_type": "stream",
          "name": "stdout",
          "text": [
            "Loader: test, accuracy: 0.6965\n",
            "Epoch №32\n",
            "Loader: train, accuracy: 0.63158\n"
          ]
        },
        {
          "output_type": "stream",
          "name": "stderr",
          "text": [
            "\r 32%|███▏      | 32/100 [12:58<27:23, 24.17s/it]"
          ]
        },
        {
          "output_type": "stream",
          "name": "stdout",
          "text": [
            "Loader: test, accuracy: 0.69058\n",
            "Epoch №33\n",
            "Loader: train, accuracy: 0.63144\n"
          ]
        },
        {
          "output_type": "stream",
          "name": "stderr",
          "text": [
            "\r 33%|███▎      | 33/100 [13:22<27:04, 24.24s/it]"
          ]
        },
        {
          "output_type": "stream",
          "name": "stdout",
          "text": [
            "Loader: test, accuracy: 0.69658\n",
            "Epoch №34\n",
            "Loader: train, accuracy: 0.6336\n"
          ]
        },
        {
          "output_type": "stream",
          "name": "stderr",
          "text": [
            "\r 34%|███▍      | 34/100 [13:47<26:48, 24.37s/it]"
          ]
        },
        {
          "output_type": "stream",
          "name": "stdout",
          "text": [
            "Loader: test, accuracy: 0.70018\n",
            "Epoch №35\n",
            "Loader: train, accuracy: 0.6315\n"
          ]
        },
        {
          "output_type": "stream",
          "name": "stderr",
          "text": [
            "\r 35%|███▌      | 35/100 [14:12<26:29, 24.45s/it]"
          ]
        },
        {
          "output_type": "stream",
          "name": "stdout",
          "text": [
            "Loader: test, accuracy: 0.70104\n",
            "Epoch №36\n",
            "Loader: train, accuracy: 0.63486\n"
          ]
        },
        {
          "output_type": "stream",
          "name": "stderr",
          "text": [
            "\r 36%|███▌      | 36/100 [14:36<26:07, 24.50s/it]"
          ]
        },
        {
          "output_type": "stream",
          "name": "stdout",
          "text": [
            "Loader: test, accuracy: 0.70658\n",
            "Epoch №37\n",
            "Loader: train, accuracy: 0.63676\n"
          ]
        },
        {
          "output_type": "stream",
          "name": "stderr",
          "text": [
            "\r 37%|███▋      | 37/100 [15:01<25:40, 24.44s/it]"
          ]
        },
        {
          "output_type": "stream",
          "name": "stdout",
          "text": [
            "Loader: test, accuracy: 0.70366\n",
            "Epoch №38\n",
            "Loader: train, accuracy: 0.63614\n"
          ]
        },
        {
          "output_type": "stream",
          "name": "stderr",
          "text": [
            "\r 38%|███▊      | 38/100 [15:25<25:13, 24.42s/it]"
          ]
        },
        {
          "output_type": "stream",
          "name": "stdout",
          "text": [
            "Loader: test, accuracy: 0.70124\n",
            "Epoch №39\n",
            "Loader: train, accuracy: 0.63708\n"
          ]
        },
        {
          "output_type": "stream",
          "name": "stderr",
          "text": [
            "\r 39%|███▉      | 39/100 [15:49<24:37, 24.22s/it]"
          ]
        },
        {
          "output_type": "stream",
          "name": "stdout",
          "text": [
            "Loader: test, accuracy: 0.69748\n",
            "Epoch №40\n",
            "Loader: train, accuracy: 0.63896\n"
          ]
        },
        {
          "output_type": "stream",
          "name": "stderr",
          "text": [
            "\r 40%|████      | 40/100 [16:12<23:59, 23.99s/it]"
          ]
        },
        {
          "output_type": "stream",
          "name": "stdout",
          "text": [
            "Loader: test, accuracy: 0.71012\n",
            "Epoch №41\n",
            "Loader: train, accuracy: 0.6409\n"
          ]
        },
        {
          "output_type": "stream",
          "name": "stderr",
          "text": [
            "\r 41%|████      | 41/100 [16:36<23:35, 23.99s/it]"
          ]
        },
        {
          "output_type": "stream",
          "name": "stdout",
          "text": [
            "Loader: test, accuracy: 0.7152\n",
            "Epoch №42\n",
            "Loader: train, accuracy: 0.64132\n"
          ]
        },
        {
          "output_type": "stream",
          "name": "stderr",
          "text": [
            "\r 42%|████▏     | 42/100 [17:00<23:11, 23.99s/it]"
          ]
        },
        {
          "output_type": "stream",
          "name": "stdout",
          "text": [
            "Loader: test, accuracy: 0.70618\n",
            "Epoch №43\n",
            "Loader: train, accuracy: 0.6433\n"
          ]
        },
        {
          "output_type": "stream",
          "name": "stderr",
          "text": [
            "\r 43%|████▎     | 43/100 [17:24<22:44, 23.95s/it]"
          ]
        },
        {
          "output_type": "stream",
          "name": "stdout",
          "text": [
            "Loader: test, accuracy: 0.708\n",
            "Epoch №44\n",
            "Loader: train, accuracy: 0.64212\n"
          ]
        },
        {
          "output_type": "stream",
          "name": "stderr",
          "text": [
            "\r 44%|████▍     | 44/100 [17:48<22:21, 23.95s/it]"
          ]
        },
        {
          "output_type": "stream",
          "name": "stdout",
          "text": [
            "Loader: test, accuracy: 0.70686\n",
            "Epoch №45\n",
            "Loader: train, accuracy: 0.64276\n"
          ]
        },
        {
          "output_type": "stream",
          "name": "stderr",
          "text": [
            "\r 45%|████▌     | 45/100 [18:12<21:57, 23.96s/it]"
          ]
        },
        {
          "output_type": "stream",
          "name": "stdout",
          "text": [
            "Loader: test, accuracy: 0.71038\n",
            "Epoch №46\n",
            "Loader: train, accuracy: 0.6469\n"
          ]
        },
        {
          "output_type": "stream",
          "name": "stderr",
          "text": [
            "\r 46%|████▌     | 46/100 [18:36<21:34, 23.97s/it]"
          ]
        },
        {
          "output_type": "stream",
          "name": "stdout",
          "text": [
            "Loader: test, accuracy: 0.70792\n",
            "Epoch №47\n",
            "Loader: train, accuracy: 0.6426\n"
          ]
        },
        {
          "output_type": "stream",
          "name": "stderr",
          "text": [
            "\r 47%|████▋     | 47/100 [18:59<21:03, 23.84s/it]"
          ]
        },
        {
          "output_type": "stream",
          "name": "stdout",
          "text": [
            "Loader: test, accuracy: 0.71452\n",
            "Epoch №48\n",
            "Loader: train, accuracy: 0.64618\n"
          ]
        },
        {
          "output_type": "stream",
          "name": "stderr",
          "text": [
            "\r 48%|████▊     | 48/100 [19:23<20:35, 23.76s/it]"
          ]
        },
        {
          "output_type": "stream",
          "name": "stdout",
          "text": [
            "Loader: test, accuracy: 0.7201\n",
            "Epoch №49\n",
            "Loader: train, accuracy: 0.6474\n"
          ]
        },
        {
          "output_type": "stream",
          "name": "stderr",
          "text": [
            "\r 49%|████▉     | 49/100 [19:47<20:19, 23.91s/it]"
          ]
        },
        {
          "output_type": "stream",
          "name": "stdout",
          "text": [
            "Loader: test, accuracy: 0.71758\n",
            "Epoch №50\n",
            "Loader: train, accuracy: 0.64616\n"
          ]
        },
        {
          "output_type": "stream",
          "name": "stderr",
          "text": [
            "\r 50%|█████     | 50/100 [20:12<20:00, 24.01s/it]"
          ]
        },
        {
          "output_type": "stream",
          "name": "stdout",
          "text": [
            "Loader: test, accuracy: 0.71086\n",
            "Epoch №51\n",
            "Loader: train, accuracy: 0.64638\n"
          ]
        },
        {
          "output_type": "stream",
          "name": "stderr",
          "text": [
            "\r 51%|█████     | 51/100 [20:36<19:37, 24.03s/it]"
          ]
        },
        {
          "output_type": "stream",
          "name": "stdout",
          "text": [
            "Loader: test, accuracy: 0.71944\n",
            "Epoch №52\n",
            "Loader: train, accuracy: 0.65132\n"
          ]
        },
        {
          "output_type": "stream",
          "name": "stderr",
          "text": [
            "\r 52%|█████▏    | 52/100 [21:00<19:13, 24.04s/it]"
          ]
        },
        {
          "output_type": "stream",
          "name": "stdout",
          "text": [
            "Loader: test, accuracy: 0.71522\n",
            "Epoch №53\n",
            "Loader: train, accuracy: 0.6505\n"
          ]
        },
        {
          "output_type": "stream",
          "name": "stderr",
          "text": [
            "\r 53%|█████▎    | 53/100 [21:24<18:49, 24.02s/it]"
          ]
        },
        {
          "output_type": "stream",
          "name": "stdout",
          "text": [
            "Loader: test, accuracy: 0.7175\n",
            "Epoch №54\n",
            "Loader: train, accuracy: 0.65012\n"
          ]
        },
        {
          "output_type": "stream",
          "name": "stderr",
          "text": [
            "\r 54%|█████▍    | 54/100 [21:48<18:25, 24.03s/it]"
          ]
        },
        {
          "output_type": "stream",
          "name": "stdout",
          "text": [
            "Loader: test, accuracy: 0.71346\n",
            "Epoch №55\n",
            "Loader: train, accuracy: 0.65126\n"
          ]
        },
        {
          "output_type": "stream",
          "name": "stderr",
          "text": [
            "\r 55%|█████▌    | 55/100 [22:12<18:01, 24.02s/it]"
          ]
        },
        {
          "output_type": "stream",
          "name": "stdout",
          "text": [
            "Loader: test, accuracy: 0.7244\n",
            "Epoch №56\n",
            "Loader: train, accuracy: 0.65086\n"
          ]
        },
        {
          "output_type": "stream",
          "name": "stderr",
          "text": [
            "\r 56%|█████▌    | 56/100 [22:35<17:28, 23.83s/it]"
          ]
        },
        {
          "output_type": "stream",
          "name": "stdout",
          "text": [
            "Loader: test, accuracy: 0.72696\n",
            "Epoch №57\n",
            "Loader: train, accuracy: 0.65304\n"
          ]
        },
        {
          "output_type": "stream",
          "name": "stderr",
          "text": [
            "\r 57%|█████▋    | 57/100 [22:59<17:01, 23.74s/it]"
          ]
        },
        {
          "output_type": "stream",
          "name": "stdout",
          "text": [
            "Loader: test, accuracy: 0.70564\n",
            "Epoch №58\n",
            "Loader: train, accuracy: 0.64966\n"
          ]
        },
        {
          "output_type": "stream",
          "name": "stderr",
          "text": [
            "\r 58%|█████▊    | 58/100 [23:23<16:39, 23.80s/it]"
          ]
        },
        {
          "output_type": "stream",
          "name": "stdout",
          "text": [
            "Loader: test, accuracy: 0.72854\n",
            "Epoch №59\n",
            "Loader: train, accuracy: 0.65132\n"
          ]
        },
        {
          "output_type": "stream",
          "name": "stderr",
          "text": [
            "\r 59%|█████▉    | 59/100 [23:47<16:17, 23.84s/it]"
          ]
        },
        {
          "output_type": "stream",
          "name": "stdout",
          "text": [
            "Loader: test, accuracy: 0.73194\n",
            "Epoch №60\n",
            "Loader: train, accuracy: 0.6546\n"
          ]
        },
        {
          "output_type": "stream",
          "name": "stderr",
          "text": [
            "\r 60%|██████    | 60/100 [24:13<16:22, 24.57s/it]"
          ]
        },
        {
          "output_type": "stream",
          "name": "stdout",
          "text": [
            "Loader: test, accuracy: 0.723\n",
            "Epoch №61\n",
            "Loader: train, accuracy: 0.65112\n"
          ]
        },
        {
          "output_type": "stream",
          "name": "stderr",
          "text": [
            "\r 61%|██████    | 61/100 [24:38<16:02, 24.67s/it]"
          ]
        },
        {
          "output_type": "stream",
          "name": "stdout",
          "text": [
            "Loader: test, accuracy: 0.72782\n",
            "Epoch №62\n",
            "Loader: train, accuracy: 0.65664\n"
          ]
        },
        {
          "output_type": "stream",
          "name": "stderr",
          "text": [
            "\r 62%|██████▏   | 62/100 [25:01<15:24, 24.32s/it]"
          ]
        },
        {
          "output_type": "stream",
          "name": "stdout",
          "text": [
            "Loader: test, accuracy: 0.73076\n",
            "Epoch №63\n",
            "Loader: train, accuracy: 0.65608\n"
          ]
        },
        {
          "output_type": "stream",
          "name": "stderr",
          "text": [
            "\r 63%|██████▎   | 63/100 [25:25<14:50, 24.06s/it]"
          ]
        },
        {
          "output_type": "stream",
          "name": "stdout",
          "text": [
            "Loader: test, accuracy: 0.72638\n",
            "Epoch №64\n",
            "Loader: train, accuracy: 0.65662\n"
          ]
        },
        {
          "output_type": "stream",
          "name": "stderr",
          "text": [
            "\r 64%|██████▍   | 64/100 [25:48<14:21, 23.92s/it]"
          ]
        },
        {
          "output_type": "stream",
          "name": "stdout",
          "text": [
            "Loader: test, accuracy: 0.7275\n",
            "Epoch №65\n",
            "Loader: train, accuracy: 0.65644\n"
          ]
        },
        {
          "output_type": "stream",
          "name": "stderr",
          "text": [
            "\r 65%|██████▌   | 65/100 [26:12<13:50, 23.73s/it]"
          ]
        },
        {
          "output_type": "stream",
          "name": "stdout",
          "text": [
            "Loader: test, accuracy: 0.7325\n",
            "Epoch №66\n",
            "Loader: train, accuracy: 0.65654\n"
          ]
        },
        {
          "output_type": "stream",
          "name": "stderr",
          "text": [
            "\r 66%|██████▌   | 66/100 [26:35<13:24, 23.67s/it]"
          ]
        },
        {
          "output_type": "stream",
          "name": "stdout",
          "text": [
            "Loader: test, accuracy: 0.73118\n",
            "Epoch №67\n",
            "Loader: train, accuracy: 0.66062\n"
          ]
        },
        {
          "output_type": "stream",
          "name": "stderr",
          "text": [
            "\r 67%|██████▋   | 67/100 [26:59<13:03, 23.74s/it]"
          ]
        },
        {
          "output_type": "stream",
          "name": "stdout",
          "text": [
            "Loader: test, accuracy: 0.73158\n",
            "Epoch №68\n",
            "Loader: train, accuracy: 0.65728\n"
          ]
        },
        {
          "output_type": "stream",
          "name": "stderr",
          "text": [
            "\r 68%|██████▊   | 68/100 [27:23<12:42, 23.84s/it]"
          ]
        },
        {
          "output_type": "stream",
          "name": "stdout",
          "text": [
            "Loader: test, accuracy: 0.7356\n",
            "Epoch №69\n",
            "Loader: train, accuracy: 0.65716\n"
          ]
        },
        {
          "output_type": "stream",
          "name": "stderr",
          "text": [
            "\r 69%|██████▉   | 69/100 [27:47<12:20, 23.89s/it]"
          ]
        },
        {
          "output_type": "stream",
          "name": "stdout",
          "text": [
            "Loader: test, accuracy: 0.72054\n",
            "Epoch №70\n",
            "Loader: train, accuracy: 0.6599\n"
          ]
        },
        {
          "output_type": "stream",
          "name": "stderr",
          "text": [
            "\r 70%|███████   | 70/100 [28:11<11:58, 23.93s/it]"
          ]
        },
        {
          "output_type": "stream",
          "name": "stdout",
          "text": [
            "Loader: test, accuracy: 0.73438\n",
            "Epoch №71\n",
            "Loader: train, accuracy: 0.65944\n"
          ]
        },
        {
          "output_type": "stream",
          "name": "stderr",
          "text": [
            "\r 71%|███████   | 71/100 [28:35<11:35, 23.99s/it]"
          ]
        },
        {
          "output_type": "stream",
          "name": "stdout",
          "text": [
            "Loader: test, accuracy: 0.73478\n",
            "Epoch №72\n",
            "Loader: train, accuracy: 0.6588\n"
          ]
        },
        {
          "output_type": "stream",
          "name": "stderr",
          "text": [
            "\r 72%|███████▏  | 72/100 [28:59<11:12, 24.02s/it]"
          ]
        },
        {
          "output_type": "stream",
          "name": "stdout",
          "text": [
            "Loader: test, accuracy: 0.71904\n",
            "Epoch №73\n",
            "Loader: train, accuracy: 0.657\n"
          ]
        },
        {
          "output_type": "stream",
          "name": "stderr",
          "text": [
            "\r 73%|███████▎  | 73/100 [29:23<10:47, 23.99s/it]"
          ]
        },
        {
          "output_type": "stream",
          "name": "stdout",
          "text": [
            "Loader: test, accuracy: 0.73162\n",
            "Epoch №74\n",
            "Loader: train, accuracy: 0.65866\n"
          ]
        },
        {
          "output_type": "stream",
          "name": "stderr",
          "text": [
            "\r 74%|███████▍  | 74/100 [29:47<10:22, 23.94s/it]"
          ]
        },
        {
          "output_type": "stream",
          "name": "stdout",
          "text": [
            "Loader: test, accuracy: 0.73292\n",
            "Epoch №75\n",
            "Loader: train, accuracy: 0.66236\n"
          ]
        },
        {
          "output_type": "stream",
          "name": "stderr",
          "text": [
            "\r 75%|███████▌  | 75/100 [30:11<10:01, 24.07s/it]"
          ]
        },
        {
          "output_type": "stream",
          "name": "stdout",
          "text": [
            "Loader: test, accuracy: 0.71672\n",
            "Epoch №76\n",
            "Loader: train, accuracy: 0.65966\n"
          ]
        },
        {
          "output_type": "stream",
          "name": "stderr",
          "text": [
            "\r 76%|███████▌  | 76/100 [30:36<09:39, 24.13s/it]"
          ]
        },
        {
          "output_type": "stream",
          "name": "stdout",
          "text": [
            "Loader: test, accuracy: 0.73624\n",
            "Epoch №77\n",
            "Loader: train, accuracy: 0.66144\n"
          ]
        },
        {
          "output_type": "stream",
          "name": "stderr",
          "text": [
            "\r 77%|███████▋  | 77/100 [31:00<09:15, 24.14s/it]"
          ]
        },
        {
          "output_type": "stream",
          "name": "stdout",
          "text": [
            "Loader: test, accuracy: 0.7259\n",
            "Epoch №78\n",
            "Loader: train, accuracy: 0.65854\n"
          ]
        },
        {
          "output_type": "stream",
          "name": "stderr",
          "text": [
            "\r 78%|███████▊  | 78/100 [31:24<08:52, 24.21s/it]"
          ]
        },
        {
          "output_type": "stream",
          "name": "stdout",
          "text": [
            "Loader: test, accuracy: 0.72914\n",
            "Epoch №79\n",
            "Loader: train, accuracy: 0.66092\n"
          ]
        },
        {
          "output_type": "stream",
          "name": "stderr",
          "text": [
            "\r 79%|███████▉  | 79/100 [31:48<08:27, 24.17s/it]"
          ]
        },
        {
          "output_type": "stream",
          "name": "stdout",
          "text": [
            "Loader: test, accuracy: 0.73186\n",
            "Epoch №80\n",
            "Loader: train, accuracy: 0.66144\n"
          ]
        },
        {
          "output_type": "stream",
          "name": "stderr",
          "text": [
            "\r 80%|████████  | 80/100 [32:12<08:02, 24.10s/it]"
          ]
        },
        {
          "output_type": "stream",
          "name": "stdout",
          "text": [
            "Loader: test, accuracy: 0.73306\n",
            "Epoch №81\n",
            "Loader: train, accuracy: 0.66384\n"
          ]
        },
        {
          "output_type": "stream",
          "name": "stderr",
          "text": [
            "\r 81%|████████  | 81/100 [32:36<07:36, 24.05s/it]"
          ]
        },
        {
          "output_type": "stream",
          "name": "stdout",
          "text": [
            "Loader: test, accuracy: 0.73076\n",
            "Epoch №82\n",
            "Loader: train, accuracy: 0.6611\n"
          ]
        },
        {
          "output_type": "stream",
          "name": "stderr",
          "text": [
            "\r 82%|████████▏ | 82/100 [33:00<07:11, 23.97s/it]"
          ]
        },
        {
          "output_type": "stream",
          "name": "stdout",
          "text": [
            "Loader: test, accuracy: 0.738\n",
            "Epoch №83\n",
            "Loader: train, accuracy: 0.6621\n"
          ]
        },
        {
          "output_type": "stream",
          "name": "stderr",
          "text": [
            "\r 83%|████████▎ | 83/100 [33:23<06:44, 23.81s/it]"
          ]
        },
        {
          "output_type": "stream",
          "name": "stdout",
          "text": [
            "Loader: test, accuracy: 0.73814\n",
            "Epoch №84\n",
            "Loader: train, accuracy: 0.66162\n"
          ]
        },
        {
          "output_type": "stream",
          "name": "stderr",
          "text": [
            "\r 84%|████████▍ | 84/100 [33:47<06:21, 23.87s/it]"
          ]
        },
        {
          "output_type": "stream",
          "name": "stdout",
          "text": [
            "Loader: test, accuracy: 0.73326\n",
            "Epoch №85\n",
            "Loader: train, accuracy: 0.66672\n"
          ]
        },
        {
          "output_type": "stream",
          "name": "stderr",
          "text": [
            "\r 85%|████████▌ | 85/100 [34:12<05:59, 23.96s/it]"
          ]
        },
        {
          "output_type": "stream",
          "name": "stdout",
          "text": [
            "Loader: test, accuracy: 0.73494\n",
            "Epoch №86\n",
            "Loader: train, accuracy: 0.6625\n"
          ]
        },
        {
          "output_type": "stream",
          "name": "stderr",
          "text": [
            "\r 86%|████████▌ | 86/100 [34:36<05:36, 24.04s/it]"
          ]
        },
        {
          "output_type": "stream",
          "name": "stdout",
          "text": [
            "Loader: test, accuracy: 0.72952\n",
            "Epoch №87\n",
            "Loader: train, accuracy: 0.6653\n"
          ]
        },
        {
          "output_type": "stream",
          "name": "stderr",
          "text": [
            "\r 87%|████████▋ | 87/100 [35:00<05:13, 24.11s/it]"
          ]
        },
        {
          "output_type": "stream",
          "name": "stdout",
          "text": [
            "Loader: test, accuracy: 0.74314\n",
            "Epoch №88\n",
            "Loader: train, accuracy: 0.66796\n"
          ]
        },
        {
          "output_type": "stream",
          "name": "stderr",
          "text": [
            "\r 88%|████████▊ | 88/100 [35:24<04:49, 24.11s/it]"
          ]
        },
        {
          "output_type": "stream",
          "name": "stdout",
          "text": [
            "Loader: test, accuracy: 0.73654\n",
            "Epoch №89\n",
            "Loader: train, accuracy: 0.66398\n"
          ]
        },
        {
          "output_type": "stream",
          "name": "stderr",
          "text": [
            "\r 89%|████████▉ | 89/100 [35:48<04:24, 24.08s/it]"
          ]
        },
        {
          "output_type": "stream",
          "name": "stdout",
          "text": [
            "Loader: test, accuracy: 0.74576\n",
            "Epoch №90\n",
            "Loader: train, accuracy: 0.66698\n"
          ]
        },
        {
          "output_type": "stream",
          "name": "stderr",
          "text": [
            "\r 90%|█████████ | 90/100 [36:12<04:00, 24.07s/it]"
          ]
        },
        {
          "output_type": "stream",
          "name": "stdout",
          "text": [
            "Loader: test, accuracy: 0.7427\n",
            "Epoch №91\n",
            "Loader: train, accuracy: 0.66528\n"
          ]
        },
        {
          "output_type": "stream",
          "name": "stderr",
          "text": [
            "\r 91%|█████████ | 91/100 [36:36<03:35, 23.95s/it]"
          ]
        },
        {
          "output_type": "stream",
          "name": "stdout",
          "text": [
            "Loader: test, accuracy: 0.7434\n",
            "Epoch №92\n",
            "Loader: train, accuracy: 0.66678\n"
          ]
        },
        {
          "output_type": "stream",
          "name": "stderr",
          "text": [
            "\r 92%|█████████▏| 92/100 [36:59<03:10, 23.81s/it]"
          ]
        },
        {
          "output_type": "stream",
          "name": "stdout",
          "text": [
            "Loader: test, accuracy: 0.74164\n",
            "Epoch №93\n",
            "Loader: train, accuracy: 0.67038\n"
          ]
        },
        {
          "output_type": "stream",
          "name": "stderr",
          "text": [
            "\r 93%|█████████▎| 93/100 [37:24<02:47, 23.95s/it]"
          ]
        },
        {
          "output_type": "stream",
          "name": "stdout",
          "text": [
            "Loader: test, accuracy: 0.74304\n",
            "Epoch №94\n",
            "Loader: train, accuracy: 0.6663\n"
          ]
        },
        {
          "output_type": "stream",
          "name": "stderr",
          "text": [
            "\r 94%|█████████▍| 94/100 [37:48<02:24, 24.05s/it]"
          ]
        },
        {
          "output_type": "stream",
          "name": "stdout",
          "text": [
            "Loader: test, accuracy: 0.74228\n",
            "Epoch №95\n",
            "Loader: train, accuracy: 0.66638\n"
          ]
        },
        {
          "output_type": "stream",
          "name": "stderr",
          "text": [
            "\r 95%|█████████▌| 95/100 [38:12<02:00, 24.09s/it]"
          ]
        },
        {
          "output_type": "stream",
          "name": "stdout",
          "text": [
            "Loader: test, accuracy: 0.7433\n",
            "Epoch №96\n",
            "Loader: train, accuracy: 0.6686\n"
          ]
        },
        {
          "output_type": "stream",
          "name": "stderr",
          "text": [
            "\r 96%|█████████▌| 96/100 [38:36<01:36, 24.05s/it]"
          ]
        },
        {
          "output_type": "stream",
          "name": "stdout",
          "text": [
            "Loader: test, accuracy: 0.74706\n",
            "Epoch №97\n",
            "Loader: train, accuracy: 0.6688\n"
          ]
        },
        {
          "output_type": "stream",
          "name": "stderr",
          "text": [
            "\r 97%|█████████▋| 97/100 [39:00<01:12, 24.07s/it]"
          ]
        },
        {
          "output_type": "stream",
          "name": "stdout",
          "text": [
            "Loader: test, accuracy: 0.74292\n",
            "Epoch №98\n",
            "Loader: train, accuracy: 0.66762\n"
          ]
        },
        {
          "output_type": "stream",
          "name": "stderr",
          "text": [
            "\r 98%|█████████▊| 98/100 [39:24<00:48, 24.08s/it]"
          ]
        },
        {
          "output_type": "stream",
          "name": "stdout",
          "text": [
            "Loader: test, accuracy: 0.73854\n",
            "Epoch №99\n",
            "Loader: train, accuracy: 0.66874\n"
          ]
        },
        {
          "output_type": "stream",
          "name": "stderr",
          "text": [
            "\r 99%|█████████▉| 99/100 [39:48<00:24, 24.08s/it]"
          ]
        },
        {
          "output_type": "stream",
          "name": "stdout",
          "text": [
            "Loader: test, accuracy: 0.74266\n",
            "Epoch №100\n",
            "Loader: train, accuracy: 0.6679\n"
          ]
        },
        {
          "output_type": "stream",
          "name": "stderr",
          "text": [
            "100%|██████████| 100/100 [40:12<00:00, 24.12s/it]"
          ]
        },
        {
          "output_type": "stream",
          "name": "stdout",
          "text": [
            "Loader: test, accuracy: 0.73566\n"
          ]
        },
        {
          "output_type": "stream",
          "name": "stderr",
          "text": [
            "\n"
          ]
        }
      ]
    },
    {
      "cell_type": "code",
      "source": [
        "torch.save(model.state_dict(), 'CIFAR10_v2_100_EPOCHS.pth')"
      ],
      "metadata": {
        "id": "suP5OF9Py_kl"
      },
      "execution_count": 20,
      "outputs": []
    }
  ]
}