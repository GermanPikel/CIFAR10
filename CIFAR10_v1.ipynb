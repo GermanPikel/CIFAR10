{
  "nbformat": 4,
  "nbformat_minor": 0,
  "metadata": {
    "colab": {
      "provenance": [],
      "gpuType": "T4"
    },
    "kernelspec": {
      "name": "python3",
      "display_name": "Python 3"
    },
    "language_info": {
      "name": "python"
    },
    "accelerator": "GPU"
  },
  "cells": [
    {
      "cell_type": "code",
      "execution_count": 9,
      "metadata": {
        "colab": {
          "base_uri": "https://localhost:8080/",
          "height": 36
        },
        "id": "8a6hVIgkoYYO",
        "outputId": "7b44aa3d-299d-4c74-9336-268794e09d72"
      },
      "outputs": [
        {
          "output_type": "execute_result",
          "data": {
            "text/plain": [
              "'cuda'"
            ],
            "application/vnd.google.colaboratory.intrinsic+json": {
              "type": "string"
            }
          },
          "metadata": {},
          "execution_count": 9
        }
      ],
      "source": [
        "import torch\n",
        "import torchvision\n",
        "import torch.nn as nn\n",
        "import numpy as np\n",
        "import torch.nn.functional as F\n",
        "from torchvision import transforms\n",
        "from torch.utils.data import DataLoader\n",
        "from tqdm import tqdm\n",
        "\n",
        "device = \"cuda\" if torch.cuda.is_available() else \"cpu\"\n",
        "device"
      ]
    },
    {
      "cell_type": "code",
      "source": [
        "transformer = transforms.Compose([transforms.ToTensor(),\n",
        "                                  transforms.Normalize(mean=[0.4914, 0.4822, 0.4465], std=[0.2470, 0.2435, 0.2616])])\n",
        "\n",
        "trainset = torchvision.datasets.CIFAR10(root=\"./data\", train=True,\n",
        "                                        transform=transformer, download=True)\n",
        "testset = torchvision.datasets.CIFAR10(root=\"./data\", train=False,\n",
        "                                       transform=transformer, download=True)\n",
        "\n",
        "trainloader = DataLoader(trainset, batch_size=128, shuffle=True, num_workers=2)\n",
        "testloader = DataLoader(trainset, batch_size=128, shuffle=True, num_workers=2)"
      ],
      "metadata": {
        "colab": {
          "base_uri": "https://localhost:8080/"
        },
        "id": "Ry_PSr1ApGOA",
        "outputId": "4ef24b63-cfae-4cdd-92ab-092ccde6e4b3"
      },
      "execution_count": 2,
      "outputs": [
        {
          "output_type": "stream",
          "name": "stderr",
          "text": [
            "100%|██████████| 170M/170M [00:05<00:00, 29.1MB/s]\n"
          ]
        }
      ]
    },
    {
      "cell_type": "code",
      "source": [
        "print(len(trainset))\n",
        "print(len(testset))"
      ],
      "metadata": {
        "colab": {
          "base_uri": "https://localhost:8080/"
        },
        "id": "N0Jtvek6tZ0H",
        "outputId": "695a907c-c198-4e88-8568-64e44d3ca1f6"
      },
      "execution_count": 3,
      "outputs": [
        {
          "output_type": "stream",
          "name": "stdout",
          "text": [
            "50000\n",
            "10000\n"
          ]
        }
      ]
    },
    {
      "cell_type": "code",
      "source": [
        "trainset[0][0].shape # 3 цветовых канала, сами картинки размером 32 на 32 пикселя"
      ],
      "metadata": {
        "colab": {
          "base_uri": "https://localhost:8080/"
        },
        "id": "PAxnP4hwtsUw",
        "outputId": "21d977d7-0e1a-4a55-9c56-85d67c37b208"
      },
      "execution_count": 4,
      "outputs": [
        {
          "output_type": "execute_result",
          "data": {
            "text/plain": [
              "torch.Size([3, 32, 32])"
            ]
          },
          "metadata": {},
          "execution_count": 4
        }
      ]
    },
    {
      "cell_type": "code",
      "source": [
        "class MyOwnNet(nn.Module):\n",
        "    def __init__(self):\n",
        "      super(MyOwnNet, self).__init__()\n",
        "      self.conv1 = nn.Conv2d(in_channels=3, out_channels=12, kernel_size=3)\n",
        "      self.pool = nn.MaxPool2d(kernel_size=2, stride=2)\n",
        "      self.conv2 = nn.Conv2d(in_channels=12, out_channels=16, kernel_size=3)\n",
        "      self.conv3 = nn.Conv2d(in_channels=16, out_channels=24, kernel_size=3)\n",
        "\n",
        "      self._to_linear = None\n",
        "      self._get_conv_size(torch.randn(1, 3, 32, 32))\n",
        "\n",
        "      self.flatten = nn.Flatten()\n",
        "      self.fc1 = nn.Linear(self._to_linear, 120)\n",
        "      self.fc2 = nn.Linear(120, 84)\n",
        "      self.fc3 = nn.Linear(84, 10)\n",
        "\n",
        "    def _get_conv_size(self, x):\n",
        "          x = self.pool(F.relu(self.conv1(x)))\n",
        "          x = self.pool(F.relu(self.conv2(x)))\n",
        "          x = self.pool(F.relu(self.conv3(x)))\n",
        "          self._to_linear = x.flatten(1).shape[1]\n",
        "\n",
        "    def forward(self, x):\n",
        "        x = self.pool(F.relu(self.conv1(x)))\n",
        "        x = self.pool(F.relu(self.conv2(x)))\n",
        "        x = self.pool(F.relu(self.conv3(x)))\n",
        "        x = self.flatten(x)\n",
        "        x = F.relu(self.fc1(x))\n",
        "        x = F.relu(self.fc2(x))\n",
        "        x = self.fc3(x) # Последний слой без ФА, т.к. в Лосс уже встроен софтмакс\n",
        "        return x"
      ],
      "metadata": {
        "id": "Chx2MkkauUtF"
      },
      "execution_count": 5,
      "outputs": []
    },
    {
      "cell_type": "code",
      "source": [
        "model = MyOwnNet().to(device)\n",
        "criterion = nn.CrossEntropyLoss()\n",
        "optimizer = torch.optim.Adam(model.parameters(), lr=1e-3)"
      ],
      "metadata": {
        "id": "rMVZNZ2Bx5PK"
      },
      "execution_count": 22,
      "outputs": []
    },
    {
      "cell_type": "code",
      "source": [
        "dataloaders = {\"train\": trainloader, \"test\": testloader}"
      ],
      "metadata": {
        "id": "xgSOOgUIsg9c"
      },
      "execution_count": 23,
      "outputs": []
    },
    {
      "cell_type": "code",
      "source": [
        "model.train()\n",
        "epochs = 100\n",
        "accuracy = {\"train\": [], \"test\": []}\n",
        "for epoch in tqdm(range(epochs)):\n",
        "  for action, dataloader in dataloaders.items():\n",
        "    epoch_correct = 0\n",
        "    epoch_all = 0\n",
        "    for X_batch, y_batch in dataloader:\n",
        "      X_batch = X_batch.to(device)\n",
        "      y_batch = y_batch.to(device)\n",
        "      if action == \"train\":\n",
        "        model.train()\n",
        "        optimizer.zero_grad()\n",
        "        logits = model(X_batch)\n",
        "      else:\n",
        "        model.eval()\n",
        "        with torch.no_grad():\n",
        "          logits = model(X_batch)\n",
        "      y_pred = logits.argmax(-1)\n",
        "      correct_preds = (y_batch == y_pred).sum()\n",
        "      epoch_correct += correct_preds.item()\n",
        "      epoch_all += y_batch.shape[0]\n",
        "      if action == \"train\":\n",
        "        loss = criterion(logits, y_batch)\n",
        "        loss.backward()\n",
        "        optimizer.step()\n",
        "    if action == \"train\":\n",
        "      print(f\"Epoch №{epoch + 1}\")\n",
        "    print(f\"Loader: {action}, accuracy: {epoch_correct/epoch_all}\")\n",
        "    accuracy[action].append(epoch_correct/epoch_all)"
      ],
      "metadata": {
        "id": "WwJDbfnAy6q4",
        "colab": {
          "base_uri": "https://localhost:8080/"
        },
        "outputId": "97ffccf7-b3a4-44b8-c8b8-709e792b7224"
      },
      "execution_count": 24,
      "outputs": [
        {
          "output_type": "stream",
          "name": "stderr",
          "text": [
            "\r  0%|          | 0/100 [00:00<?, ?it/s]"
          ]
        },
        {
          "output_type": "stream",
          "name": "stdout",
          "text": [
            "Epoch №1\n",
            "Loader: train, accuracy: 0.32292\n"
          ]
        },
        {
          "output_type": "stream",
          "name": "stderr",
          "text": [
            "\r  1%|          | 1/100 [00:23<38:47, 23.51s/it]"
          ]
        },
        {
          "output_type": "stream",
          "name": "stdout",
          "text": [
            "Loader: test, accuracy: 0.41654\n",
            "Epoch №2\n",
            "Loader: train, accuracy: 0.44932\n"
          ]
        },
        {
          "output_type": "stream",
          "name": "stderr",
          "text": [
            "\r  2%|▏         | 2/100 [00:46<38:17, 23.44s/it]"
          ]
        },
        {
          "output_type": "stream",
          "name": "stdout",
          "text": [
            "Loader: test, accuracy: 0.49136\n",
            "Epoch №3\n",
            "Loader: train, accuracy: 0.50728\n"
          ]
        },
        {
          "output_type": "stream",
          "name": "stderr",
          "text": [
            "\r  3%|▎         | 3/100 [01:10<37:49, 23.40s/it]"
          ]
        },
        {
          "output_type": "stream",
          "name": "stdout",
          "text": [
            "Loader: test, accuracy: 0.53154\n",
            "Epoch №4\n",
            "Loader: train, accuracy: 0.54074\n"
          ]
        },
        {
          "output_type": "stream",
          "name": "stderr",
          "text": [
            "\r  4%|▍         | 4/100 [01:33<37:30, 23.44s/it]"
          ]
        },
        {
          "output_type": "stream",
          "name": "stdout",
          "text": [
            "Loader: test, accuracy: 0.556\n",
            "Epoch №5\n",
            "Loader: train, accuracy: 0.5652\n"
          ]
        },
        {
          "output_type": "stream",
          "name": "stderr",
          "text": [
            "\r  5%|▌         | 5/100 [01:57<37:00, 23.37s/it]"
          ]
        },
        {
          "output_type": "stream",
          "name": "stdout",
          "text": [
            "Loader: test, accuracy: 0.58246\n",
            "Epoch №6\n",
            "Loader: train, accuracy: 0.58904\n"
          ]
        },
        {
          "output_type": "stream",
          "name": "stderr",
          "text": [
            "\r  6%|▌         | 6/100 [02:19<36:04, 23.03s/it]"
          ]
        },
        {
          "output_type": "stream",
          "name": "stdout",
          "text": [
            "Loader: test, accuracy: 0.59066\n",
            "Epoch №7\n",
            "Loader: train, accuracy: 0.60388\n"
          ]
        },
        {
          "output_type": "stream",
          "name": "stderr",
          "text": [
            "\r  7%|▋         | 7/100 [02:42<35:47, 23.09s/it]"
          ]
        },
        {
          "output_type": "stream",
          "name": "stdout",
          "text": [
            "Loader: test, accuracy: 0.61772\n",
            "Epoch №8\n",
            "Loader: train, accuracy: 0.62052\n"
          ]
        },
        {
          "output_type": "stream",
          "name": "stderr",
          "text": [
            "\r  8%|▊         | 8/100 [03:05<35:22, 23.07s/it]"
          ]
        },
        {
          "output_type": "stream",
          "name": "stdout",
          "text": [
            "Loader: test, accuracy: 0.62858\n",
            "Epoch №9\n",
            "Loader: train, accuracy: 0.63438\n"
          ]
        },
        {
          "output_type": "stream",
          "name": "stderr",
          "text": [
            "\r  9%|▉         | 9/100 [03:28<34:55, 23.03s/it]"
          ]
        },
        {
          "output_type": "stream",
          "name": "stdout",
          "text": [
            "Loader: test, accuracy: 0.64802\n",
            "Epoch №10\n",
            "Loader: train, accuracy: 0.64102\n"
          ]
        },
        {
          "output_type": "stream",
          "name": "stderr",
          "text": [
            "\r 10%|█         | 10/100 [03:51<34:36, 23.07s/it]"
          ]
        },
        {
          "output_type": "stream",
          "name": "stdout",
          "text": [
            "Loader: test, accuracy: 0.65634\n",
            "Epoch №11\n",
            "Loader: train, accuracy: 0.6518\n"
          ]
        },
        {
          "output_type": "stream",
          "name": "stderr",
          "text": [
            "\r 11%|█         | 11/100 [04:13<33:50, 22.81s/it]"
          ]
        },
        {
          "output_type": "stream",
          "name": "stdout",
          "text": [
            "Loader: test, accuracy: 0.66752\n",
            "Epoch №12\n",
            "Loader: train, accuracy: 0.65974\n"
          ]
        },
        {
          "output_type": "stream",
          "name": "stderr",
          "text": [
            "\r 12%|█▏        | 12/100 [04:37<33:57, 23.15s/it]"
          ]
        },
        {
          "output_type": "stream",
          "name": "stdout",
          "text": [
            "Loader: test, accuracy: 0.67852\n",
            "Epoch №13\n",
            "Loader: train, accuracy: 0.66658\n"
          ]
        },
        {
          "output_type": "stream",
          "name": "stderr",
          "text": [
            "\r 13%|█▎        | 13/100 [05:00<33:33, 23.14s/it]"
          ]
        },
        {
          "output_type": "stream",
          "name": "stdout",
          "text": [
            "Loader: test, accuracy: 0.66992\n",
            "Epoch №14\n",
            "Loader: train, accuracy: 0.6763\n"
          ]
        },
        {
          "output_type": "stream",
          "name": "stderr",
          "text": [
            "\r 14%|█▍        | 14/100 [05:23<33:05, 23.08s/it]"
          ]
        },
        {
          "output_type": "stream",
          "name": "stdout",
          "text": [
            "Loader: test, accuracy: 0.6906\n",
            "Epoch №15\n",
            "Loader: train, accuracy: 0.68276\n"
          ]
        },
        {
          "output_type": "stream",
          "name": "stderr",
          "text": [
            "\r 15%|█▌        | 15/100 [05:46<32:39, 23.06s/it]"
          ]
        },
        {
          "output_type": "stream",
          "name": "stdout",
          "text": [
            "Loader: test, accuracy: 0.70004\n",
            "Epoch №16\n",
            "Loader: train, accuracy: 0.68832\n"
          ]
        },
        {
          "output_type": "stream",
          "name": "stderr",
          "text": [
            "\r 16%|█▌        | 16/100 [06:09<31:54, 22.79s/it]"
          ]
        },
        {
          "output_type": "stream",
          "name": "stdout",
          "text": [
            "Loader: test, accuracy: 0.701\n",
            "Epoch №17\n",
            "Loader: train, accuracy: 0.69348\n"
          ]
        },
        {
          "output_type": "stream",
          "name": "stderr",
          "text": [
            "\r 17%|█▋        | 17/100 [06:31<31:31, 22.79s/it]"
          ]
        },
        {
          "output_type": "stream",
          "name": "stdout",
          "text": [
            "Loader: test, accuracy: 0.7077\n",
            "Epoch №18\n",
            "Loader: train, accuracy: 0.70064\n"
          ]
        },
        {
          "output_type": "stream",
          "name": "stderr",
          "text": [
            "\r 18%|█▊        | 18/100 [06:54<31:09, 22.80s/it]"
          ]
        },
        {
          "output_type": "stream",
          "name": "stdout",
          "text": [
            "Loader: test, accuracy: 0.70722\n",
            "Epoch №19\n",
            "Loader: train, accuracy: 0.70564\n"
          ]
        },
        {
          "output_type": "stream",
          "name": "stderr",
          "text": [
            "\r 19%|█▉        | 19/100 [07:17<30:50, 22.84s/it]"
          ]
        },
        {
          "output_type": "stream",
          "name": "stdout",
          "text": [
            "Loader: test, accuracy: 0.7212\n",
            "Epoch №20\n",
            "Loader: train, accuracy: 0.71448\n"
          ]
        },
        {
          "output_type": "stream",
          "name": "stderr",
          "text": [
            "\r 20%|██        | 20/100 [07:40<30:31, 22.89s/it]"
          ]
        },
        {
          "output_type": "stream",
          "name": "stdout",
          "text": [
            "Loader: test, accuracy: 0.71466\n",
            "Epoch №21\n",
            "Loader: train, accuracy: 0.7142\n"
          ]
        },
        {
          "output_type": "stream",
          "name": "stderr",
          "text": [
            "\r 21%|██        | 21/100 [08:03<29:56, 22.74s/it]"
          ]
        },
        {
          "output_type": "stream",
          "name": "stdout",
          "text": [
            "Loader: test, accuracy: 0.71804\n",
            "Epoch №22\n",
            "Loader: train, accuracy: 0.71802\n"
          ]
        },
        {
          "output_type": "stream",
          "name": "stderr",
          "text": [
            "\r 22%|██▏       | 22/100 [08:25<29:32, 22.72s/it]"
          ]
        },
        {
          "output_type": "stream",
          "name": "stdout",
          "text": [
            "Loader: test, accuracy: 0.72672\n",
            "Epoch №23\n",
            "Loader: train, accuracy: 0.72066\n"
          ]
        },
        {
          "output_type": "stream",
          "name": "stderr",
          "text": [
            "\r 23%|██▎       | 23/100 [08:49<29:40, 23.12s/it]"
          ]
        },
        {
          "output_type": "stream",
          "name": "stdout",
          "text": [
            "Loader: test, accuracy: 0.73186\n",
            "Epoch №24\n",
            "Loader: train, accuracy: 0.72546\n"
          ]
        },
        {
          "output_type": "stream",
          "name": "stderr",
          "text": [
            "\r 24%|██▍       | 24/100 [09:13<29:20, 23.16s/it]"
          ]
        },
        {
          "output_type": "stream",
          "name": "stdout",
          "text": [
            "Loader: test, accuracy: 0.7284\n",
            "Epoch №25\n",
            "Loader: train, accuracy: 0.72842\n"
          ]
        },
        {
          "output_type": "stream",
          "name": "stderr",
          "text": [
            "\r 25%|██▌       | 25/100 [09:36<28:57, 23.17s/it]"
          ]
        },
        {
          "output_type": "stream",
          "name": "stdout",
          "text": [
            "Loader: test, accuracy: 0.72842\n",
            "Epoch №26\n",
            "Loader: train, accuracy: 0.73096\n"
          ]
        },
        {
          "output_type": "stream",
          "name": "stderr",
          "text": [
            "\r 26%|██▌       | 26/100 [09:59<28:27, 23.07s/it]"
          ]
        },
        {
          "output_type": "stream",
          "name": "stdout",
          "text": [
            "Loader: test, accuracy: 0.7222\n",
            "Epoch №27\n",
            "Loader: train, accuracy: 0.73484\n"
          ]
        },
        {
          "output_type": "stream",
          "name": "stderr",
          "text": [
            "\r 27%|██▋       | 27/100 [10:21<27:47, 22.84s/it]"
          ]
        },
        {
          "output_type": "stream",
          "name": "stdout",
          "text": [
            "Loader: test, accuracy: 0.74228\n",
            "Epoch №28\n",
            "Loader: train, accuracy: 0.734\n"
          ]
        },
        {
          "output_type": "stream",
          "name": "stderr",
          "text": [
            "\r 28%|██▊       | 28/100 [10:44<27:32, 22.95s/it]"
          ]
        },
        {
          "output_type": "stream",
          "name": "stdout",
          "text": [
            "Loader: test, accuracy: 0.7452\n",
            "Epoch №29\n",
            "Loader: train, accuracy: 0.74128\n"
          ]
        },
        {
          "output_type": "stream",
          "name": "stderr",
          "text": [
            "\r 29%|██▉       | 29/100 [11:07<27:12, 22.99s/it]"
          ]
        },
        {
          "output_type": "stream",
          "name": "stdout",
          "text": [
            "Loader: test, accuracy: 0.74712\n",
            "Epoch №30\n",
            "Loader: train, accuracy: 0.74348\n"
          ]
        },
        {
          "output_type": "stream",
          "name": "stderr",
          "text": [
            "\r 30%|███       | 30/100 [11:30<26:52, 23.03s/it]"
          ]
        },
        {
          "output_type": "stream",
          "name": "stdout",
          "text": [
            "Loader: test, accuracy: 0.75916\n",
            "Epoch №31\n",
            "Loader: train, accuracy: 0.74676\n"
          ]
        },
        {
          "output_type": "stream",
          "name": "stderr",
          "text": [
            "\r 31%|███       | 31/100 [11:54<26:43, 23.23s/it]"
          ]
        },
        {
          "output_type": "stream",
          "name": "stdout",
          "text": [
            "Loader: test, accuracy: 0.7616\n",
            "Epoch №32\n",
            "Loader: train, accuracy: 0.74926\n"
          ]
        },
        {
          "output_type": "stream",
          "name": "stderr",
          "text": [
            "\r 32%|███▏      | 32/100 [12:17<26:17, 23.20s/it]"
          ]
        },
        {
          "output_type": "stream",
          "name": "stdout",
          "text": [
            "Loader: test, accuracy: 0.7652\n",
            "Epoch №33\n",
            "Loader: train, accuracy: 0.75124\n"
          ]
        },
        {
          "output_type": "stream",
          "name": "stderr",
          "text": [
            "\r 33%|███▎      | 33/100 [12:40<25:44, 23.05s/it]"
          ]
        },
        {
          "output_type": "stream",
          "name": "stdout",
          "text": [
            "Loader: test, accuracy: 0.76564\n",
            "Epoch №34\n",
            "Loader: train, accuracy: 0.7539\n"
          ]
        },
        {
          "output_type": "stream",
          "name": "stderr",
          "text": [
            "\r 34%|███▍      | 34/100 [13:04<25:48, 23.46s/it]"
          ]
        },
        {
          "output_type": "stream",
          "name": "stdout",
          "text": [
            "Loader: test, accuracy: 0.76232\n",
            "Epoch №35\n",
            "Loader: train, accuracy: 0.75946\n"
          ]
        },
        {
          "output_type": "stream",
          "name": "stderr",
          "text": [
            "\r 35%|███▌      | 35/100 [13:28<25:23, 23.43s/it]"
          ]
        },
        {
          "output_type": "stream",
          "name": "stdout",
          "text": [
            "Loader: test, accuracy: 0.76894\n",
            "Epoch №36\n",
            "Loader: train, accuracy: 0.7588\n"
          ]
        },
        {
          "output_type": "stream",
          "name": "stderr",
          "text": [
            "\r 36%|███▌      | 36/100 [13:51<24:57, 23.39s/it]"
          ]
        },
        {
          "output_type": "stream",
          "name": "stdout",
          "text": [
            "Loader: test, accuracy: 0.75734\n",
            "Epoch №37\n",
            "Loader: train, accuracy: 0.76282\n"
          ]
        },
        {
          "output_type": "stream",
          "name": "stderr",
          "text": [
            "\r 37%|███▋      | 37/100 [14:14<24:35, 23.42s/it]"
          ]
        },
        {
          "output_type": "stream",
          "name": "stdout",
          "text": [
            "Loader: test, accuracy: 0.78156\n",
            "Epoch №38\n",
            "Loader: train, accuracy: 0.76276\n"
          ]
        },
        {
          "output_type": "stream",
          "name": "stderr",
          "text": [
            "\r 38%|███▊      | 38/100 [14:38<24:09, 23.38s/it]"
          ]
        },
        {
          "output_type": "stream",
          "name": "stdout",
          "text": [
            "Loader: test, accuracy: 0.77136\n",
            "Epoch №39\n",
            "Loader: train, accuracy: 0.76594\n"
          ]
        },
        {
          "output_type": "stream",
          "name": "stderr",
          "text": [
            "\r 39%|███▉      | 39/100 [15:00<23:21, 22.98s/it]"
          ]
        },
        {
          "output_type": "stream",
          "name": "stdout",
          "text": [
            "Loader: test, accuracy: 0.77396\n",
            "Epoch №40\n",
            "Loader: train, accuracy: 0.77104\n"
          ]
        },
        {
          "output_type": "stream",
          "name": "stderr",
          "text": [
            "\r 40%|████      | 40/100 [15:23<23:02, 23.04s/it]"
          ]
        },
        {
          "output_type": "stream",
          "name": "stdout",
          "text": [
            "Loader: test, accuracy: 0.77774\n",
            "Epoch №41\n",
            "Loader: train, accuracy: 0.76976\n"
          ]
        },
        {
          "output_type": "stream",
          "name": "stderr",
          "text": [
            "\r 41%|████      | 41/100 [15:46<22:45, 23.15s/it]"
          ]
        },
        {
          "output_type": "stream",
          "name": "stdout",
          "text": [
            "Loader: test, accuracy: 0.78606\n",
            "Epoch №42\n",
            "Loader: train, accuracy: 0.77042\n"
          ]
        },
        {
          "output_type": "stream",
          "name": "stderr",
          "text": [
            "\r 42%|████▏     | 42/100 [16:10<22:27, 23.23s/it]"
          ]
        },
        {
          "output_type": "stream",
          "name": "stdout",
          "text": [
            "Loader: test, accuracy: 0.77876\n",
            "Epoch №43\n",
            "Loader: train, accuracy: 0.77408\n"
          ]
        },
        {
          "output_type": "stream",
          "name": "stderr",
          "text": [
            "\r 43%|████▎     | 43/100 [16:33<22:05, 23.25s/it]"
          ]
        },
        {
          "output_type": "stream",
          "name": "stdout",
          "text": [
            "Loader: test, accuracy: 0.78334\n",
            "Epoch №44\n",
            "Loader: train, accuracy: 0.77762\n"
          ]
        },
        {
          "output_type": "stream",
          "name": "stderr",
          "text": [
            "\r 44%|████▍     | 44/100 [16:56<21:43, 23.28s/it]"
          ]
        },
        {
          "output_type": "stream",
          "name": "stdout",
          "text": [
            "Loader: test, accuracy: 0.78682\n",
            "Epoch №45\n",
            "Loader: train, accuracy: 0.78032\n"
          ]
        },
        {
          "output_type": "stream",
          "name": "stderr",
          "text": [
            "\r 45%|████▌     | 45/100 [17:20<21:25, 23.38s/it]"
          ]
        },
        {
          "output_type": "stream",
          "name": "stdout",
          "text": [
            "Loader: test, accuracy: 0.79198\n",
            "Epoch №46\n",
            "Loader: train, accuracy: 0.77916\n"
          ]
        },
        {
          "output_type": "stream",
          "name": "stderr",
          "text": [
            "\r 46%|████▌     | 46/100 [17:43<20:51, 23.18s/it]"
          ]
        },
        {
          "output_type": "stream",
          "name": "stdout",
          "text": [
            "Loader: test, accuracy: 0.79592\n",
            "Epoch №47\n",
            "Loader: train, accuracy: 0.78328\n"
          ]
        },
        {
          "output_type": "stream",
          "name": "stderr",
          "text": [
            "\r 47%|████▋     | 47/100 [18:05<20:21, 23.05s/it]"
          ]
        },
        {
          "output_type": "stream",
          "name": "stdout",
          "text": [
            "Loader: test, accuracy: 0.79434\n",
            "Epoch №48\n",
            "Loader: train, accuracy: 0.78376\n"
          ]
        },
        {
          "output_type": "stream",
          "name": "stderr",
          "text": [
            "\r 48%|████▊     | 48/100 [18:28<19:57, 23.02s/it]"
          ]
        },
        {
          "output_type": "stream",
          "name": "stdout",
          "text": [
            "Loader: test, accuracy: 0.79712\n",
            "Epoch №49\n",
            "Loader: train, accuracy: 0.78736\n"
          ]
        },
        {
          "output_type": "stream",
          "name": "stderr",
          "text": [
            "\r 49%|████▉     | 49/100 [18:51<19:31, 22.98s/it]"
          ]
        },
        {
          "output_type": "stream",
          "name": "stdout",
          "text": [
            "Loader: test, accuracy: 0.80528\n",
            "Epoch №50\n",
            "Loader: train, accuracy: 0.78876\n"
          ]
        },
        {
          "output_type": "stream",
          "name": "stderr",
          "text": [
            "\r 50%|█████     | 50/100 [19:13<18:55, 22.71s/it]"
          ]
        },
        {
          "output_type": "stream",
          "name": "stdout",
          "text": [
            "Loader: test, accuracy: 0.81204\n",
            "Epoch №51\n",
            "Loader: train, accuracy: 0.79046\n"
          ]
        },
        {
          "output_type": "stream",
          "name": "stderr",
          "text": [
            "\r 51%|█████     | 51/100 [19:36<18:35, 22.76s/it]"
          ]
        },
        {
          "output_type": "stream",
          "name": "stdout",
          "text": [
            "Loader: test, accuracy: 0.78778\n",
            "Epoch №52\n",
            "Loader: train, accuracy: 0.79112\n"
          ]
        },
        {
          "output_type": "stream",
          "name": "stderr",
          "text": [
            "\r 52%|█████▏    | 52/100 [19:59<18:17, 22.86s/it]"
          ]
        },
        {
          "output_type": "stream",
          "name": "stdout",
          "text": [
            "Loader: test, accuracy: 0.8109\n",
            "Epoch №53\n",
            "Loader: train, accuracy: 0.79154\n"
          ]
        },
        {
          "output_type": "stream",
          "name": "stderr",
          "text": [
            "\r 53%|█████▎    | 53/100 [20:22<17:54, 22.85s/it]"
          ]
        },
        {
          "output_type": "stream",
          "name": "stdout",
          "text": [
            "Loader: test, accuracy: 0.80148\n",
            "Epoch №54\n",
            "Loader: train, accuracy: 0.79412\n"
          ]
        },
        {
          "output_type": "stream",
          "name": "stderr",
          "text": [
            "\r 54%|█████▍    | 54/100 [20:45<17:32, 22.88s/it]"
          ]
        },
        {
          "output_type": "stream",
          "name": "stdout",
          "text": [
            "Loader: test, accuracy: 0.80912\n",
            "Epoch №55\n",
            "Loader: train, accuracy: 0.79702\n"
          ]
        },
        {
          "output_type": "stream",
          "name": "stderr",
          "text": [
            "\r 55%|█████▌    | 55/100 [21:07<16:56, 22.60s/it]"
          ]
        },
        {
          "output_type": "stream",
          "name": "stdout",
          "text": [
            "Loader: test, accuracy: 0.79816\n",
            "Epoch №56\n",
            "Loader: train, accuracy: 0.8002\n"
          ]
        },
        {
          "output_type": "stream",
          "name": "stderr",
          "text": [
            "\r 56%|█████▌    | 56/100 [21:30<16:38, 22.69s/it]"
          ]
        },
        {
          "output_type": "stream",
          "name": "stdout",
          "text": [
            "Loader: test, accuracy: 0.81342\n",
            "Epoch №57\n",
            "Loader: train, accuracy: 0.79816\n"
          ]
        },
        {
          "output_type": "stream",
          "name": "stderr",
          "text": [
            "\r 57%|█████▋    | 57/100 [21:54<16:33, 23.11s/it]"
          ]
        },
        {
          "output_type": "stream",
          "name": "stdout",
          "text": [
            "Loader: test, accuracy: 0.81364\n",
            "Epoch №58\n",
            "Loader: train, accuracy: 0.79984\n"
          ]
        },
        {
          "output_type": "stream",
          "name": "stderr",
          "text": [
            "\r 58%|█████▊    | 58/100 [22:17<16:08, 23.07s/it]"
          ]
        },
        {
          "output_type": "stream",
          "name": "stdout",
          "text": [
            "Loader: test, accuracy: 0.81356\n",
            "Epoch №59\n",
            "Loader: train, accuracy: 0.8017\n"
          ]
        },
        {
          "output_type": "stream",
          "name": "stderr",
          "text": [
            "\r 59%|█████▉    | 59/100 [22:40<15:44, 23.03s/it]"
          ]
        },
        {
          "output_type": "stream",
          "name": "stdout",
          "text": [
            "Loader: test, accuracy: 0.80128\n",
            "Epoch №60\n",
            "Loader: train, accuracy: 0.80458\n"
          ]
        },
        {
          "output_type": "stream",
          "name": "stderr",
          "text": [
            "\r 60%|██████    | 60/100 [23:02<15:07, 22.69s/it]"
          ]
        },
        {
          "output_type": "stream",
          "name": "stdout",
          "text": [
            "Loader: test, accuracy: 0.82038\n",
            "Epoch №61\n",
            "Loader: train, accuracy: 0.80598\n"
          ]
        },
        {
          "output_type": "stream",
          "name": "stderr",
          "text": [
            "\r 61%|██████    | 61/100 [23:25<14:47, 22.77s/it]"
          ]
        },
        {
          "output_type": "stream",
          "name": "stdout",
          "text": [
            "Loader: test, accuracy: 0.8229\n",
            "Epoch №62\n",
            "Loader: train, accuracy: 0.80572\n"
          ]
        },
        {
          "output_type": "stream",
          "name": "stderr",
          "text": [
            "\r 62%|██████▏   | 62/100 [23:48<14:27, 22.83s/it]"
          ]
        },
        {
          "output_type": "stream",
          "name": "stdout",
          "text": [
            "Loader: test, accuracy: 0.80356\n",
            "Epoch №63\n",
            "Loader: train, accuracy: 0.81026\n"
          ]
        },
        {
          "output_type": "stream",
          "name": "stderr",
          "text": [
            "\r 63%|██████▎   | 63/100 [24:11<14:10, 22.97s/it]"
          ]
        },
        {
          "output_type": "stream",
          "name": "stdout",
          "text": [
            "Loader: test, accuracy: 0.82992\n",
            "Epoch №64\n",
            "Loader: train, accuracy: 0.80894\n"
          ]
        },
        {
          "output_type": "stream",
          "name": "stderr",
          "text": [
            "\r 64%|██████▍   | 64/100 [24:34<13:48, 23.01s/it]"
          ]
        },
        {
          "output_type": "stream",
          "name": "stdout",
          "text": [
            "Loader: test, accuracy: 0.81708\n",
            "Epoch №65\n",
            "Loader: train, accuracy: 0.81224\n"
          ]
        },
        {
          "output_type": "stream",
          "name": "stderr",
          "text": [
            "\r 65%|██████▌   | 65/100 [24:56<13:17, 22.78s/it]"
          ]
        },
        {
          "output_type": "stream",
          "name": "stdout",
          "text": [
            "Loader: test, accuracy: 0.81636\n",
            "Epoch №66\n",
            "Loader: train, accuracy: 0.8124\n"
          ]
        },
        {
          "output_type": "stream",
          "name": "stderr",
          "text": [
            "\r 66%|██████▌   | 66/100 [25:19<12:55, 22.82s/it]"
          ]
        },
        {
          "output_type": "stream",
          "name": "stdout",
          "text": [
            "Loader: test, accuracy: 0.82868\n",
            "Epoch №67\n",
            "Loader: train, accuracy: 0.813\n"
          ]
        },
        {
          "output_type": "stream",
          "name": "stderr",
          "text": [
            "\r 67%|██████▋   | 67/100 [25:42<12:34, 22.86s/it]"
          ]
        },
        {
          "output_type": "stream",
          "name": "stdout",
          "text": [
            "Loader: test, accuracy: 0.8259\n",
            "Epoch №68\n",
            "Loader: train, accuracy: 0.81682\n"
          ]
        },
        {
          "output_type": "stream",
          "name": "stderr",
          "text": [
            "\r 68%|██████▊   | 68/100 [26:06<12:24, 23.26s/it]"
          ]
        },
        {
          "output_type": "stream",
          "name": "stdout",
          "text": [
            "Loader: test, accuracy: 0.82502\n",
            "Epoch №69\n",
            "Loader: train, accuracy: 0.81466\n"
          ]
        },
        {
          "output_type": "stream",
          "name": "stderr",
          "text": [
            "\r 69%|██████▉   | 69/100 [26:31<12:09, 23.54s/it]"
          ]
        },
        {
          "output_type": "stream",
          "name": "stdout",
          "text": [
            "Loader: test, accuracy: 0.82336\n",
            "Epoch №70\n",
            "Loader: train, accuracy: 0.81782\n"
          ]
        },
        {
          "output_type": "stream",
          "name": "stderr",
          "text": [
            "\r 70%|███████   | 70/100 [26:54<11:41, 23.39s/it]"
          ]
        },
        {
          "output_type": "stream",
          "name": "stdout",
          "text": [
            "Loader: test, accuracy: 0.81468\n",
            "Epoch №71\n",
            "Loader: train, accuracy: 0.81948\n"
          ]
        },
        {
          "output_type": "stream",
          "name": "stderr",
          "text": [
            "\r 71%|███████   | 71/100 [27:16<11:12, 23.20s/it]"
          ]
        },
        {
          "output_type": "stream",
          "name": "stdout",
          "text": [
            "Loader: test, accuracy: 0.84338\n",
            "Epoch №72\n",
            "Loader: train, accuracy: 0.81956\n"
          ]
        },
        {
          "output_type": "stream",
          "name": "stderr",
          "text": [
            "\r 72%|███████▏  | 72/100 [27:40<10:49, 23.19s/it]"
          ]
        },
        {
          "output_type": "stream",
          "name": "stdout",
          "text": [
            "Loader: test, accuracy: 0.82842\n",
            "Epoch №73\n",
            "Loader: train, accuracy: 0.82132\n"
          ]
        },
        {
          "output_type": "stream",
          "name": "stderr",
          "text": [
            "\r 73%|███████▎  | 73/100 [28:03<10:27, 23.24s/it]"
          ]
        },
        {
          "output_type": "stream",
          "name": "stdout",
          "text": [
            "Loader: test, accuracy: 0.842\n",
            "Epoch №74\n",
            "Loader: train, accuracy: 0.8228\n"
          ]
        },
        {
          "output_type": "stream",
          "name": "stderr",
          "text": [
            "\r 74%|███████▍  | 74/100 [28:26<10:06, 23.32s/it]"
          ]
        },
        {
          "output_type": "stream",
          "name": "stdout",
          "text": [
            "Loader: test, accuracy: 0.83298\n",
            "Epoch №75\n",
            "Loader: train, accuracy: 0.82488\n"
          ]
        },
        {
          "output_type": "stream",
          "name": "stderr",
          "text": [
            "\r 75%|███████▌  | 75/100 [28:50<09:45, 23.42s/it]"
          ]
        },
        {
          "output_type": "stream",
          "name": "stdout",
          "text": [
            "Loader: test, accuracy: 0.83742\n",
            "Epoch №76\n",
            "Loader: train, accuracy: 0.82296\n"
          ]
        },
        {
          "output_type": "stream",
          "name": "stderr",
          "text": [
            "\r 76%|███████▌  | 76/100 [29:13<09:19, 23.33s/it]"
          ]
        },
        {
          "output_type": "stream",
          "name": "stdout",
          "text": [
            "Loader: test, accuracy: 0.83732\n",
            "Epoch №77\n",
            "Loader: train, accuracy: 0.82328\n"
          ]
        },
        {
          "output_type": "stream",
          "name": "stderr",
          "text": [
            "\r 77%|███████▋  | 77/100 [29:36<08:55, 23.27s/it]"
          ]
        },
        {
          "output_type": "stream",
          "name": "stdout",
          "text": [
            "Loader: test, accuracy: 0.84622\n",
            "Epoch №78\n",
            "Loader: train, accuracy: 0.82646\n"
          ]
        },
        {
          "output_type": "stream",
          "name": "stderr",
          "text": [
            "\r 78%|███████▊  | 78/100 [30:00<08:34, 23.39s/it]"
          ]
        },
        {
          "output_type": "stream",
          "name": "stdout",
          "text": [
            "Loader: test, accuracy: 0.83626\n",
            "Epoch №79\n",
            "Loader: train, accuracy: 0.82618\n"
          ]
        },
        {
          "output_type": "stream",
          "name": "stderr",
          "text": [
            "\r 79%|███████▉  | 79/100 [30:25<08:18, 23.75s/it]"
          ]
        },
        {
          "output_type": "stream",
          "name": "stdout",
          "text": [
            "Loader: test, accuracy: 0.8414\n",
            "Epoch №80\n",
            "Loader: train, accuracy: 0.83096\n"
          ]
        },
        {
          "output_type": "stream",
          "name": "stderr",
          "text": [
            "\r 80%|████████  | 80/100 [30:48<07:52, 23.64s/it]"
          ]
        },
        {
          "output_type": "stream",
          "name": "stdout",
          "text": [
            "Loader: test, accuracy: 0.84516\n",
            "Epoch №81\n",
            "Loader: train, accuracy: 0.82944\n"
          ]
        },
        {
          "output_type": "stream",
          "name": "stderr",
          "text": [
            "\r 81%|████████  | 81/100 [31:11<07:27, 23.56s/it]"
          ]
        },
        {
          "output_type": "stream",
          "name": "stdout",
          "text": [
            "Loader: test, accuracy: 0.84214\n",
            "Epoch №82\n",
            "Loader: train, accuracy: 0.83054\n"
          ]
        },
        {
          "output_type": "stream",
          "name": "stderr",
          "text": [
            "\r 82%|████████▏ | 82/100 [31:35<07:03, 23.55s/it]"
          ]
        },
        {
          "output_type": "stream",
          "name": "stdout",
          "text": [
            "Loader: test, accuracy: 0.84886\n",
            "Epoch №83\n",
            "Loader: train, accuracy: 0.83184\n"
          ]
        },
        {
          "output_type": "stream",
          "name": "stderr",
          "text": [
            "\r 83%|████████▎ | 83/100 [31:58<06:36, 23.30s/it]"
          ]
        },
        {
          "output_type": "stream",
          "name": "stdout",
          "text": [
            "Loader: test, accuracy: 0.84538\n",
            "Epoch №84\n",
            "Loader: train, accuracy: 0.83336\n"
          ]
        },
        {
          "output_type": "stream",
          "name": "stderr",
          "text": [
            "\r 84%|████████▍ | 84/100 [32:21<06:13, 23.34s/it]"
          ]
        },
        {
          "output_type": "stream",
          "name": "stdout",
          "text": [
            "Loader: test, accuracy: 0.84066\n",
            "Epoch №85\n",
            "Loader: train, accuracy: 0.83374\n"
          ]
        },
        {
          "output_type": "stream",
          "name": "stderr",
          "text": [
            "\r 85%|████████▌ | 85/100 [32:45<05:52, 23.48s/it]"
          ]
        },
        {
          "output_type": "stream",
          "name": "stdout",
          "text": [
            "Loader: test, accuracy: 0.83874\n",
            "Epoch №86\n",
            "Loader: train, accuracy: 0.83382\n"
          ]
        },
        {
          "output_type": "stream",
          "name": "stderr",
          "text": [
            "\r 86%|████████▌ | 86/100 [33:09<05:29, 23.53s/it]"
          ]
        },
        {
          "output_type": "stream",
          "name": "stdout",
          "text": [
            "Loader: test, accuracy: 0.85364\n",
            "Epoch №87\n",
            "Loader: train, accuracy: 0.83666\n"
          ]
        },
        {
          "output_type": "stream",
          "name": "stderr",
          "text": [
            "\r 87%|████████▋ | 87/100 [33:33<05:07, 23.67s/it]"
          ]
        },
        {
          "output_type": "stream",
          "name": "stdout",
          "text": [
            "Loader: test, accuracy: 0.84982\n",
            "Epoch №88\n",
            "Loader: train, accuracy: 0.83306\n"
          ]
        },
        {
          "output_type": "stream",
          "name": "stderr",
          "text": [
            "\r 88%|████████▊ | 88/100 [33:56<04:44, 23.68s/it]"
          ]
        },
        {
          "output_type": "stream",
          "name": "stdout",
          "text": [
            "Loader: test, accuracy: 0.84456\n",
            "Epoch №89\n",
            "Loader: train, accuracy: 0.83644\n"
          ]
        },
        {
          "output_type": "stream",
          "name": "stderr",
          "text": [
            "\r 89%|████████▉ | 89/100 [34:20<04:22, 23.82s/it]"
          ]
        },
        {
          "output_type": "stream",
          "name": "stdout",
          "text": [
            "Loader: test, accuracy: 0.85378\n",
            "Epoch №90\n",
            "Loader: train, accuracy: 0.8376\n"
          ]
        },
        {
          "output_type": "stream",
          "name": "stderr",
          "text": [
            "\r 90%|█████████ | 90/100 [34:44<03:57, 23.72s/it]"
          ]
        },
        {
          "output_type": "stream",
          "name": "stdout",
          "text": [
            "Loader: test, accuracy: 0.83842\n",
            "Epoch №91\n",
            "Loader: train, accuracy: 0.8402\n"
          ]
        },
        {
          "output_type": "stream",
          "name": "stderr",
          "text": [
            "\r 91%|█████████ | 91/100 [35:08<03:33, 23.71s/it]"
          ]
        },
        {
          "output_type": "stream",
          "name": "stdout",
          "text": [
            "Loader: test, accuracy: 0.8493\n",
            "Epoch №92\n",
            "Loader: train, accuracy: 0.84192\n"
          ]
        },
        {
          "output_type": "stream",
          "name": "stderr",
          "text": [
            "\r 92%|█████████▏| 92/100 [35:31<03:09, 23.75s/it]"
          ]
        },
        {
          "output_type": "stream",
          "name": "stdout",
          "text": [
            "Loader: test, accuracy: 0.85906\n",
            "Epoch №93\n",
            "Loader: train, accuracy: 0.84062\n"
          ]
        },
        {
          "output_type": "stream",
          "name": "stderr",
          "text": [
            "\r 93%|█████████▎| 93/100 [35:55<02:46, 23.76s/it]"
          ]
        },
        {
          "output_type": "stream",
          "name": "stdout",
          "text": [
            "Loader: test, accuracy: 0.85628\n",
            "Epoch №94\n",
            "Loader: train, accuracy: 0.84484\n"
          ]
        },
        {
          "output_type": "stream",
          "name": "stderr",
          "text": [
            "\r 94%|█████████▍| 94/100 [36:19<02:22, 23.81s/it]"
          ]
        },
        {
          "output_type": "stream",
          "name": "stdout",
          "text": [
            "Loader: test, accuracy: 0.86342\n",
            "Epoch №95\n",
            "Loader: train, accuracy: 0.84112\n"
          ]
        },
        {
          "output_type": "stream",
          "name": "stderr",
          "text": [
            "\r 95%|█████████▌| 95/100 [36:43<01:58, 23.77s/it]"
          ]
        },
        {
          "output_type": "stream",
          "name": "stdout",
          "text": [
            "Loader: test, accuracy: 0.85104\n",
            "Epoch №96\n",
            "Loader: train, accuracy: 0.84214\n"
          ]
        },
        {
          "output_type": "stream",
          "name": "stderr",
          "text": [
            "\r 96%|█████████▌| 96/100 [37:06<01:34, 23.66s/it]"
          ]
        },
        {
          "output_type": "stream",
          "name": "stdout",
          "text": [
            "Loader: test, accuracy: 0.8542\n",
            "Epoch №97\n",
            "Loader: train, accuracy: 0.84132\n"
          ]
        },
        {
          "output_type": "stream",
          "name": "stderr",
          "text": [
            "\r 97%|█████████▋| 97/100 [37:29<01:10, 23.51s/it]"
          ]
        },
        {
          "output_type": "stream",
          "name": "stdout",
          "text": [
            "Loader: test, accuracy: 0.86286\n",
            "Epoch №98\n",
            "Loader: train, accuracy: 0.8465\n"
          ]
        },
        {
          "output_type": "stream",
          "name": "stderr",
          "text": [
            "\r 98%|█████████▊| 98/100 [37:53<00:47, 23.63s/it]"
          ]
        },
        {
          "output_type": "stream",
          "name": "stdout",
          "text": [
            "Loader: test, accuracy: 0.86558\n",
            "Epoch №99\n",
            "Loader: train, accuracy: 0.84598\n"
          ]
        },
        {
          "output_type": "stream",
          "name": "stderr",
          "text": [
            "\r 99%|█████████▉| 99/100 [38:17<00:23, 23.64s/it]"
          ]
        },
        {
          "output_type": "stream",
          "name": "stdout",
          "text": [
            "Loader: test, accuracy: 0.85734\n",
            "Epoch №100\n",
            "Loader: train, accuracy: 0.84482\n"
          ]
        },
        {
          "output_type": "stream",
          "name": "stderr",
          "text": [
            "100%|██████████| 100/100 [38:42<00:00, 23.22s/it]"
          ]
        },
        {
          "output_type": "stream",
          "name": "stdout",
          "text": [
            "Loader: test, accuracy: 0.85814\n"
          ]
        },
        {
          "output_type": "stream",
          "name": "stderr",
          "text": [
            "\n"
          ]
        }
      ]
    },
    {
      "cell_type": "code",
      "source": [
        "torch.save(model.state_dict(), 'CIFAR10_v1_100_EPOCHS.pth')"
      ],
      "metadata": {
        "id": "suP5OF9Py_kl"
      },
      "execution_count": 25,
      "outputs": []
    }
  ]
}